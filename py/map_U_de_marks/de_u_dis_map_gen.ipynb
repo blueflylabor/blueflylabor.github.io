{
 "cells": [
  {
   "cell_type": "code",
   "execution_count": 15,
   "metadata": {},
   "outputs": [
    {
     "name": "stdout",
     "output_type": "stream",
     "text": [
      "Defaulting to user installation because normal site-packages is not writeable\n",
      "Requirement already satisfied: folium in /home/jeff/.local/lib/python3.10/site-packages (0.19.2)\n",
      "Requirement already satisfied: jinja2>=2.9 in /usr/lib/python3/dist-packages (from folium) (3.0.3)\n",
      "Requirement already satisfied: requests in /home/jeff/.local/lib/python3.10/site-packages (from folium) (2.31.0)\n",
      "Requirement already satisfied: numpy in /home/jeff/.local/lib/python3.10/site-packages (from folium) (1.23.5)\n",
      "Requirement already satisfied: branca>=0.6.0 in /home/jeff/.local/lib/python3.10/site-packages (from folium) (0.8.1)\n",
      "Requirement already satisfied: xyzservices in /home/jeff/.local/lib/python3.10/site-packages (from folium) (2024.9.0)\n",
      "Requirement already satisfied: charset-normalizer<4,>=2 in /home/jeff/.local/lib/python3.10/site-packages (from requests->folium) (3.4.1)\n",
      "Requirement already satisfied: idna<4,>=2.5 in /usr/lib/python3/dist-packages (from requests->folium) (3.3)\n",
      "Requirement already satisfied: urllib3<3,>=1.21.1 in /usr/lib/python3/dist-packages (from requests->folium) (1.26.5)\n",
      "Requirement already satisfied: certifi>=2017.4.17 in /usr/lib/python3/dist-packages (from requests->folium) (2020.6.20)\n"
     ]
    }
   ],
   "source": [
    "!pip3 install folium"
   ]
  },
  {
   "cell_type": "code",
   "execution_count": 33,
   "metadata": {},
   "outputs": [],
   "source": [
    "import pandas as pd\n",
    "\n",
    "# 读取CSV文件\n",
    "data = pd.read_csv('example.csv')\n",
    "import folium\n",
    "\n",
    "# 创建一个地图对象，设置初始中心坐标和缩放级别\n",
    "m = folium.Map(location=[data['纬度'].mean(), data['经度'].mean()], zoom_start=5)\n",
    "for index, row in data.iterrows():\n",
    "    folium.Marker([row['纬度'], row['经度']], popup=row['地点名称']).add_to(m)\n",
    "    # 将地图保存为HTML文件\n",
    "m.save(\"map.html\")"
   ]
  },
  {
   "cell_type": "code",
   "execution_count": 37,
   "metadata": {},
   "outputs": [],
   "source": [
    "import pandas as pd\n",
    "import numpy as np\n",
    "\n",
    "# 读取原始CSV文件\n",
    "data = pd.read_csv('german_universities.csv')\n",
    "\n",
    "# 用于记录已经出现过的经纬度组合，避免重复修改\n",
    "seen_coords = set()\n",
    "\n",
    "# 遍历每一行数据\n",
    "for index in data.index:\n",
    "    lat = data.at[index, '纬度']\n",
    "    lon = data.at[index, '经度']\n",
    "    coord_tuple = (lat, lon)\n",
    "    if coord_tuple in seen_coords:\n",
    "        # 如果经纬度组合已经出现过，添加微小随机值（这里以在原坐标基础上添加一个很小的正态分布随机数为例）\n",
    "        # 可以根据实际需求调整随机数的范围和分布等，这里使用均值为0，标准差为0.0001的正态分布随机数\n",
    "        data.at[index, '纬度'] += np.random.normal(0, 0.0001)\n",
    "        data.at[index, '经度'] += np.random.normal(0, 0.0001)\n",
    "    else:\n",
    "        seen_coords.add(coord_tuple)\n",
    "\n",
    "# 将修改后的数据保存为新的CSV文件\n",
    "data.to_csv('german_universities_adjusted.csv', index=False)"
   ]
  },
  {
   "cell_type": "code",
   "execution_count": 38,
   "metadata": {},
   "outputs": [],
   "source": [
    "import pandas as pd\n",
    "import folium\n",
    "\n",
    "# 读取CSV文件\n",
    "data = pd.read_csv('german_universities_adjusted.csv')\n",
    "\n",
    "# 创建一个地图对象，设置初始中心坐标和缩放级别，可以根据数据的大致范围调整中心坐标\n",
    "m = folium.Map(location=[data['纬度'].mean(), data['经度'].mean()], zoom_start=6)\n",
    "\n",
    "# 为地图添加标题（title），这里使用folium的IFrame来定义标题样式和内容\n",
    "title_html = '''\n",
    "             <h3 align=\"center\" style=\"font-size:20px\"><b>德国大学坐标分布地图</b></h3>\n",
    "             '''\n",
    "m.get_root().html.add_child(folium.Element(title_html))\n",
    "\n",
    "# 批量标注坐标，将排名信息也添加到弹出框（popup）显示内容中\n",
    "for index, row in data.iterrows():\n",
    "    popup_content = f\"学校名称：{row['学校名称']}<br>排名：{row['排名']}<br>所在城市：{row['城市']}\"\n",
    "    folium.Marker([row['纬度'], row['经度']], popup=popup_content).add_to(m)\n",
    "\n",
    "# 将地图保存为HTML文件\n",
    "m.save('german_universities_map.html')"
   ]
  },
  {
   "cell_type": "code",
   "execution_count": null,
   "metadata": {},
   "outputs": [],
   "source": []
  }
 ],
 "metadata": {
  "kernelspec": {
   "display_name": "Python 3",
   "language": "python",
   "name": "python3"
  },
  "language_info": {
   "codemirror_mode": {
    "name": "ipython",
    "version": 3
   },
   "file_extension": ".py",
   "mimetype": "text/x-python",
   "name": "python",
   "nbconvert_exporter": "python",
   "pygments_lexer": "ipython3",
   "version": "3.10.12"
  }
 },
 "nbformat": 4,
 "nbformat_minor": 2
}
